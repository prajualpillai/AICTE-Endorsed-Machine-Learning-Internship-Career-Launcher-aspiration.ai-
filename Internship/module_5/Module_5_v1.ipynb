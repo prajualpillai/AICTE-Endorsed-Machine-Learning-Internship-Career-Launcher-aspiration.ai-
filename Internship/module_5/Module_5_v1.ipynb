{
 "cells": [
  {
   "cell_type": "code",
   "execution_count": 287,
   "metadata": {},
   "outputs": [],
   "source": [
    "import pandas as pd\n",
    "import numpy as np\n",
    "\n",
    "import seaborn as sns\n",
    "import matplotlib.pyplot as plt"
   ]
  },
  {
   "cell_type": "markdown",
   "metadata": {},
   "source": [
    "# 5.1"
   ]
  },
  {
   "cell_type": "code",
   "execution_count": 288,
   "metadata": {},
   "outputs": [],
   "source": [
    "df = pd.read_csv(\"M&M.csv\")"
   ]
  },
  {
   "cell_type": "code",
   "execution_count": 289,
   "metadata": {},
   "outputs": [],
   "source": [
    "df_1 = df.copy()\n",
    "df_1['Date'] = pd.to_datetime(df_1['Date'])\n",
    "df_1 = df.set_index('Date')"
   ]
  },
  {
   "cell_type": "code",
   "execution_count": 290,
   "metadata": {},
   "outputs": [
    {
     "data": {
      "text/html": [
       "<div>\n",
       "<style scoped>\n",
       "    .dataframe tbody tr th:only-of-type {\n",
       "        vertical-align: middle;\n",
       "    }\n",
       "\n",
       "    .dataframe tbody tr th {\n",
       "        vertical-align: top;\n",
       "    }\n",
       "\n",
       "    .dataframe thead th {\n",
       "        text-align: right;\n",
       "    }\n",
       "</style>\n",
       "<table border=\"1\" class=\"dataframe\">\n",
       "  <thead>\n",
       "    <tr style=\"text-align: right;\">\n",
       "      <th></th>\n",
       "      <th>Symbol</th>\n",
       "      <th>Series</th>\n",
       "      <th>Prev Close</th>\n",
       "      <th>Open Price</th>\n",
       "      <th>High Price</th>\n",
       "      <th>Low Price</th>\n",
       "      <th>Last Price</th>\n",
       "      <th>Close Price</th>\n",
       "      <th>Average Price</th>\n",
       "      <th>Total Traded Quantity</th>\n",
       "      <th>Turnover</th>\n",
       "      <th>No. of Trades</th>\n",
       "      <th>Deliverable Qty</th>\n",
       "      <th>% Dly Qt to Traded Qty</th>\n",
       "    </tr>\n",
       "    <tr>\n",
       "      <th>Date</th>\n",
       "      <th></th>\n",
       "      <th></th>\n",
       "      <th></th>\n",
       "      <th></th>\n",
       "      <th></th>\n",
       "      <th></th>\n",
       "      <th></th>\n",
       "      <th></th>\n",
       "      <th></th>\n",
       "      <th></th>\n",
       "      <th></th>\n",
       "      <th></th>\n",
       "      <th></th>\n",
       "      <th></th>\n",
       "    </tr>\n",
       "  </thead>\n",
       "  <tbody>\n",
       "    <tr>\n",
       "      <th>15-May-2017</th>\n",
       "      <td>M&amp;amp;M</td>\n",
       "      <td>EQ</td>\n",
       "      <td>1367.85</td>\n",
       "      <td>1373.0</td>\n",
       "      <td>1386.65</td>\n",
       "      <td>1370.0</td>\n",
       "      <td>1374.80</td>\n",
       "      <td>1375.65</td>\n",
       "      <td>1378.31</td>\n",
       "      <td>558190</td>\n",
       "      <td>7.693579e+08</td>\n",
       "      <td>38442</td>\n",
       "      <td>386664</td>\n",
       "      <td>69.27</td>\n",
       "    </tr>\n",
       "    <tr>\n",
       "      <th>16-May-2017</th>\n",
       "      <td>M&amp;amp;M</td>\n",
       "      <td>EQ</td>\n",
       "      <td>1375.65</td>\n",
       "      <td>1377.0</td>\n",
       "      <td>1380.50</td>\n",
       "      <td>1363.1</td>\n",
       "      <td>1364.15</td>\n",
       "      <td>1366.35</td>\n",
       "      <td>1371.22</td>\n",
       "      <td>516012</td>\n",
       "      <td>7.075634e+08</td>\n",
       "      <td>29075</td>\n",
       "      <td>334469</td>\n",
       "      <td>64.82</td>\n",
       "    </tr>\n",
       "    <tr>\n",
       "      <th>17-May-2017</th>\n",
       "      <td>M&amp;amp;M</td>\n",
       "      <td>EQ</td>\n",
       "      <td>1366.35</td>\n",
       "      <td>1363.0</td>\n",
       "      <td>1384.35</td>\n",
       "      <td>1360.4</td>\n",
       "      <td>1379.00</td>\n",
       "      <td>1378.80</td>\n",
       "      <td>1378.56</td>\n",
       "      <td>920884</td>\n",
       "      <td>1.269497e+09</td>\n",
       "      <td>32299</td>\n",
       "      <td>689649</td>\n",
       "      <td>74.89</td>\n",
       "    </tr>\n",
       "    <tr>\n",
       "      <th>18-May-2017</th>\n",
       "      <td>M&amp;amp;M</td>\n",
       "      <td>EQ</td>\n",
       "      <td>1378.80</td>\n",
       "      <td>1369.0</td>\n",
       "      <td>1372.00</td>\n",
       "      <td>1347.5</td>\n",
       "      <td>1347.50</td>\n",
       "      <td>1352.85</td>\n",
       "      <td>1361.70</td>\n",
       "      <td>1217846</td>\n",
       "      <td>1.658344e+09</td>\n",
       "      <td>20476</td>\n",
       "      <td>1043736</td>\n",
       "      <td>85.70</td>\n",
       "    </tr>\n",
       "    <tr>\n",
       "      <th>19-May-2017</th>\n",
       "      <td>M&amp;amp;M</td>\n",
       "      <td>EQ</td>\n",
       "      <td>1352.85</td>\n",
       "      <td>1350.0</td>\n",
       "      <td>1357.60</td>\n",
       "      <td>1328.5</td>\n",
       "      <td>1338.20</td>\n",
       "      <td>1333.40</td>\n",
       "      <td>1344.80</td>\n",
       "      <td>976742</td>\n",
       "      <td>1.313522e+09</td>\n",
       "      <td>36297</td>\n",
       "      <td>773590</td>\n",
       "      <td>79.20</td>\n",
       "    </tr>\n",
       "  </tbody>\n",
       "</table>\n",
       "</div>"
      ],
      "text/plain": [
       "              Symbol Series  Prev Close  Open Price  High Price  Low Price  \\\n",
       "Date                                                                         \n",
       "15-May-2017  M&amp;M     EQ     1367.85      1373.0     1386.65     1370.0   \n",
       "16-May-2017  M&amp;M     EQ     1375.65      1377.0     1380.50     1363.1   \n",
       "17-May-2017  M&amp;M     EQ     1366.35      1363.0     1384.35     1360.4   \n",
       "18-May-2017  M&amp;M     EQ     1378.80      1369.0     1372.00     1347.5   \n",
       "19-May-2017  M&amp;M     EQ     1352.85      1350.0     1357.60     1328.5   \n",
       "\n",
       "             Last Price  Close Price  Average Price  Total Traded Quantity  \\\n",
       "Date                                                                         \n",
       "15-May-2017     1374.80      1375.65        1378.31                 558190   \n",
       "16-May-2017     1364.15      1366.35        1371.22                 516012   \n",
       "17-May-2017     1379.00      1378.80        1378.56                 920884   \n",
       "18-May-2017     1347.50      1352.85        1361.70                1217846   \n",
       "19-May-2017     1338.20      1333.40        1344.80                 976742   \n",
       "\n",
       "                 Turnover  No. of Trades  Deliverable Qty  \\\n",
       "Date                                                        \n",
       "15-May-2017  7.693579e+08          38442           386664   \n",
       "16-May-2017  7.075634e+08          29075           334469   \n",
       "17-May-2017  1.269497e+09          32299           689649   \n",
       "18-May-2017  1.658344e+09          20476          1043736   \n",
       "19-May-2017  1.313522e+09          36297           773590   \n",
       "\n",
       "             % Dly Qt to Traded Qty  \n",
       "Date                                 \n",
       "15-May-2017                   69.27  \n",
       "16-May-2017                   64.82  \n",
       "17-May-2017                   74.89  \n",
       "18-May-2017                   85.70  \n",
       "19-May-2017                   79.20  "
      ]
     },
     "execution_count": 290,
     "metadata": {},
     "output_type": "execute_result"
    }
   ],
   "source": [
    "df_1.head()"
   ]
  },
  {
   "cell_type": "markdown",
   "metadata": {},
   "source": [
    "#### Calculate Returns and STD"
   ]
  },
  {
   "cell_type": "code",
   "execution_count": 291,
   "metadata": {},
   "outputs": [],
   "source": [
    "df_1['Daily Returns'] = (df_1['Open Price'] - df_1['Close Price'])/df_1['Open Price']\n",
    "mean_daily_returns = df_1['Daily Returns'].sum()/len(df_1)\n",
    "df_1['Varience'] = df_1['Daily Returns'] - mean_daily_returns\n",
    "sd_entire_stock = np.sqrt((df_1['Varience']**2).sum()/len(df_1))"
   ]
  },
  {
   "cell_type": "code",
   "execution_count": 292,
   "metadata": {},
   "outputs": [
    {
     "data": {
      "text/html": [
       "<div>\n",
       "<style scoped>\n",
       "    .dataframe tbody tr th:only-of-type {\n",
       "        vertical-align: middle;\n",
       "    }\n",
       "\n",
       "    .dataframe tbody tr th {\n",
       "        vertical-align: top;\n",
       "    }\n",
       "\n",
       "    .dataframe thead th {\n",
       "        text-align: right;\n",
       "    }\n",
       "</style>\n",
       "<table border=\"1\" class=\"dataframe\">\n",
       "  <thead>\n",
       "    <tr style=\"text-align: right;\">\n",
       "      <th></th>\n",
       "      <th>Symbol</th>\n",
       "      <th>Series</th>\n",
       "      <th>Prev Close</th>\n",
       "      <th>Open Price</th>\n",
       "      <th>High Price</th>\n",
       "      <th>Low Price</th>\n",
       "      <th>Last Price</th>\n",
       "      <th>Close Price</th>\n",
       "      <th>Average Price</th>\n",
       "      <th>Total Traded Quantity</th>\n",
       "      <th>Turnover</th>\n",
       "      <th>No. of Trades</th>\n",
       "      <th>Deliverable Qty</th>\n",
       "      <th>% Dly Qt to Traded Qty</th>\n",
       "      <th>Daily Returns</th>\n",
       "      <th>Varience</th>\n",
       "    </tr>\n",
       "    <tr>\n",
       "      <th>Date</th>\n",
       "      <th></th>\n",
       "      <th></th>\n",
       "      <th></th>\n",
       "      <th></th>\n",
       "      <th></th>\n",
       "      <th></th>\n",
       "      <th></th>\n",
       "      <th></th>\n",
       "      <th></th>\n",
       "      <th></th>\n",
       "      <th></th>\n",
       "      <th></th>\n",
       "      <th></th>\n",
       "      <th></th>\n",
       "      <th></th>\n",
       "      <th></th>\n",
       "    </tr>\n",
       "  </thead>\n",
       "  <tbody>\n",
       "    <tr>\n",
       "      <th>15-May-2017</th>\n",
       "      <td>M&amp;amp;M</td>\n",
       "      <td>EQ</td>\n",
       "      <td>1367.85</td>\n",
       "      <td>1373.0</td>\n",
       "      <td>1386.65</td>\n",
       "      <td>1370.0</td>\n",
       "      <td>1374.80</td>\n",
       "      <td>1375.65</td>\n",
       "      <td>1378.31</td>\n",
       "      <td>558190</td>\n",
       "      <td>7.693579e+08</td>\n",
       "      <td>38442</td>\n",
       "      <td>386664</td>\n",
       "      <td>69.27</td>\n",
       "      <td>-0.001930</td>\n",
       "      <td>-0.004144</td>\n",
       "    </tr>\n",
       "    <tr>\n",
       "      <th>16-May-2017</th>\n",
       "      <td>M&amp;amp;M</td>\n",
       "      <td>EQ</td>\n",
       "      <td>1375.65</td>\n",
       "      <td>1377.0</td>\n",
       "      <td>1380.50</td>\n",
       "      <td>1363.1</td>\n",
       "      <td>1364.15</td>\n",
       "      <td>1366.35</td>\n",
       "      <td>1371.22</td>\n",
       "      <td>516012</td>\n",
       "      <td>7.075634e+08</td>\n",
       "      <td>29075</td>\n",
       "      <td>334469</td>\n",
       "      <td>64.82</td>\n",
       "      <td>0.007734</td>\n",
       "      <td>0.005521</td>\n",
       "    </tr>\n",
       "    <tr>\n",
       "      <th>17-May-2017</th>\n",
       "      <td>M&amp;amp;M</td>\n",
       "      <td>EQ</td>\n",
       "      <td>1366.35</td>\n",
       "      <td>1363.0</td>\n",
       "      <td>1384.35</td>\n",
       "      <td>1360.4</td>\n",
       "      <td>1379.00</td>\n",
       "      <td>1378.80</td>\n",
       "      <td>1378.56</td>\n",
       "      <td>920884</td>\n",
       "      <td>1.269497e+09</td>\n",
       "      <td>32299</td>\n",
       "      <td>689649</td>\n",
       "      <td>74.89</td>\n",
       "      <td>-0.011592</td>\n",
       "      <td>-0.013806</td>\n",
       "    </tr>\n",
       "    <tr>\n",
       "      <th>18-May-2017</th>\n",
       "      <td>M&amp;amp;M</td>\n",
       "      <td>EQ</td>\n",
       "      <td>1378.80</td>\n",
       "      <td>1369.0</td>\n",
       "      <td>1372.00</td>\n",
       "      <td>1347.5</td>\n",
       "      <td>1347.50</td>\n",
       "      <td>1352.85</td>\n",
       "      <td>1361.70</td>\n",
       "      <td>1217846</td>\n",
       "      <td>1.658344e+09</td>\n",
       "      <td>20476</td>\n",
       "      <td>1043736</td>\n",
       "      <td>85.70</td>\n",
       "      <td>0.011797</td>\n",
       "      <td>0.009583</td>\n",
       "    </tr>\n",
       "    <tr>\n",
       "      <th>19-May-2017</th>\n",
       "      <td>M&amp;amp;M</td>\n",
       "      <td>EQ</td>\n",
       "      <td>1352.85</td>\n",
       "      <td>1350.0</td>\n",
       "      <td>1357.60</td>\n",
       "      <td>1328.5</td>\n",
       "      <td>1338.20</td>\n",
       "      <td>1333.40</td>\n",
       "      <td>1344.80</td>\n",
       "      <td>976742</td>\n",
       "      <td>1.313522e+09</td>\n",
       "      <td>36297</td>\n",
       "      <td>773590</td>\n",
       "      <td>79.20</td>\n",
       "      <td>0.012296</td>\n",
       "      <td>0.010083</td>\n",
       "    </tr>\n",
       "  </tbody>\n",
       "</table>\n",
       "</div>"
      ],
      "text/plain": [
       "              Symbol Series  Prev Close  Open Price  High Price  Low Price  \\\n",
       "Date                                                                         \n",
       "15-May-2017  M&amp;M     EQ     1367.85      1373.0     1386.65     1370.0   \n",
       "16-May-2017  M&amp;M     EQ     1375.65      1377.0     1380.50     1363.1   \n",
       "17-May-2017  M&amp;M     EQ     1366.35      1363.0     1384.35     1360.4   \n",
       "18-May-2017  M&amp;M     EQ     1378.80      1369.0     1372.00     1347.5   \n",
       "19-May-2017  M&amp;M     EQ     1352.85      1350.0     1357.60     1328.5   \n",
       "\n",
       "             Last Price  Close Price  Average Price  Total Traded Quantity  \\\n",
       "Date                                                                         \n",
       "15-May-2017     1374.80      1375.65        1378.31                 558190   \n",
       "16-May-2017     1364.15      1366.35        1371.22                 516012   \n",
       "17-May-2017     1379.00      1378.80        1378.56                 920884   \n",
       "18-May-2017     1347.50      1352.85        1361.70                1217846   \n",
       "19-May-2017     1338.20      1333.40        1344.80                 976742   \n",
       "\n",
       "                 Turnover  No. of Trades  Deliverable Qty  \\\n",
       "Date                                                        \n",
       "15-May-2017  7.693579e+08          38442           386664   \n",
       "16-May-2017  7.075634e+08          29075           334469   \n",
       "17-May-2017  1.269497e+09          32299           689649   \n",
       "18-May-2017  1.658344e+09          20476          1043736   \n",
       "19-May-2017  1.313522e+09          36297           773590   \n",
       "\n",
       "             % Dly Qt to Traded Qty  Daily Returns  Varience  \n",
       "Date                                                          \n",
       "15-May-2017                   69.27      -0.001930 -0.004144  \n",
       "16-May-2017                   64.82       0.007734  0.005521  \n",
       "17-May-2017                   74.89      -0.011592 -0.013806  \n",
       "18-May-2017                   85.70       0.011797  0.009583  \n",
       "19-May-2017                   79.20       0.012296  0.010083  "
      ]
     },
     "execution_count": 292,
     "metadata": {},
     "output_type": "execute_result"
    }
   ],
   "source": [
    "df_1.head()"
   ]
  },
  {
   "cell_type": "code",
   "execution_count": 293,
   "metadata": {},
   "outputs": [
    {
     "name": "stdout",
     "output_type": "stream",
     "text": [
      "Mean Daily Returns of Stock: 0.002\n",
      "Standard Deviation of entire stock returns: 0.014\n"
     ]
    }
   ],
   "source": [
    "print(f\"Mean Daily Returns of Stock: {mean_daily_returns:.3f}\")\n",
    "print(f\"Standard Deviation of entire stock returns: {sd_entire_stock:.3f}\")"
   ]
  },
  {
   "cell_type": "code",
   "execution_count": 294,
   "metadata": {},
   "outputs": [
    {
     "name": "stdout",
     "output_type": "stream",
     "text": [
      "Annual Returns: 0.558\n",
      "Annual SD/Volatility: 0.225\n"
     ]
    }
   ],
   "source": [
    "print(f\"Annual Returns: {mean_daily_returns*252:.3f}\")\n",
    "print(f\"Annual SD/Volatility: {sd_entire_stock*np.sqrt(252):.3f}\")"
   ]
  },
  {
   "cell_type": "markdown",
   "metadata": {},
   "source": [
    "# 5.2"
   ]
  },
  {
   "cell_type": "markdown",
   "metadata": {},
   "source": [
    "#### Creating diverse portfolio"
   ]
  },
  {
   "cell_type": "markdown",
   "metadata": {},
   "source": [
    "Stocks choosen: M&M, BPCL, HDFC, RELIANCE, TITAN"
   ]
  },
  {
   "cell_type": "code",
   "execution_count": 347,
   "metadata": {},
   "outputs": [],
   "source": [
    "df_1 = pd.read_csv(\"M&M.csv\")\n",
    "df_2 = pd.read_csv(\"BPCL.csv\")\n",
    "df_3 = pd.read_csv(\"BAJFINANCE.csv\")\n",
    "df_4 = pd.read_csv(\"RELIANCE.csv\")\n",
    "df_5 = pd.read_csv(\"TITAN.csv\")\n",
    "df_list = [df_1, df_2, df_3, df_4, df_5] # create a list of all 5 stocks"
   ]
  },
  {
   "cell_type": "markdown",
   "metadata": {},
   "source": [
    "#### Fucntion to calculate annual returns and volatility of a stock"
   ]
  },
  {
   "cell_type": "code",
   "execution_count": 348,
   "metadata": {},
   "outputs": [],
   "source": [
    "def returns_volatility_stock(df):\n",
    "    df['Daily Returns'] = (df['Open Price'] - df['Close Price'])/df['Open Price']\n",
    "    mean_daily_returns = df['Daily Returns'].sum()/len(df)\n",
    "    df['Varience'] = df['Daily Returns'] - mean_daily_returns\n",
    "    sum_sqr_var = (df['Varience']**2).sum()\n",
    "    sd_entire_stock = np.sqrt(sum_sqr_var/len(df))\n",
    "    ann_rtns = mean_daily_returns*252\n",
    "    ann_volty = sd_entire_stock*np.sqrt(252)\n",
    "    rtns_volty_var = [ann_rtns, ann_volty, sum_sqr_var]\n",
    "    return(rtns_volty_var)"
   ]
  },
  {
   "cell_type": "markdown",
   "metadata": {},
   "source": [
    "#### Function to calculate annual returns and volatility of portfolio"
   ]
  },
  {
   "cell_type": "code",
   "execution_count": 349,
   "metadata": {},
   "outputs": [],
   "source": [
    "def returns_volatility_portfolio(wts=[.2, .2, .2, .2, .2]):\n",
    "    rtns_stocks, volty_stocks, var_stocks = [], [], []\n",
    "    for df in df_list:\n",
    "        rtns_stocks.append(returns_volatility_stock(df)[0])\n",
    "        volty_stocks.append(returns_volatility_stock(df)[1])\n",
    "        var_stocks.append(returns_volatility_stock(df)[2])\n",
    "        \n",
    "    rtns_portfolio, volty_portfolio, var_portfolio = 0, 0, 0\n",
    "    \n",
    "    for index, weight in enumerate(wts):\n",
    "        rtns_portfolio += weight * rtns_stocks[index]\n",
    "        var_portfolio += weight * var_stocks[index]\n",
    "    volty_portfolio = np.sqrt(var_portfolio)\n",
    "    \n",
    "    rtns_volty_portfolio = [rtns_portfolio, volty_portfolio]\n",
    "    \n",
    "    return(rtns_volty_portfolio)"
   ]
  },
  {
   "cell_type": "markdown",
   "metadata": {},
   "source": [
    "#### Calculating Retuns and Volatility for equal weights"
   ]
  },
  {
   "cell_type": "code",
   "execution_count": 352,
   "metadata": {},
   "outputs": [
    {
     "name": "stdout",
     "output_type": "stream",
     "text": [
      "==For equal weights(0.2) for all 5 stocks==\n",
      "Annual Returns: 0.22\n",
      "Volatility: 0.39\n"
     ]
    }
   ],
   "source": [
    "print(\"==For equal weights(0.2) for all 5 stocks==\")\n",
    "portfolio = returns_volatility_portfolio()\n",
    "print(f\"Annual Returns: {portfolio[0]:.2f}\")\n",
    "print(f\"Volatility: {portfolio[1]:.2f}\")"
   ]
  },
  {
   "cell_type": "markdown",
   "metadata": {},
   "source": [
    "# 5.3"
   ]
  },
  {
   "cell_type": "markdown",
   "metadata": {},
   "source": [
    "#### Generating all combinations of weight values for 5 stocks"
   ]
  },
  {
   "cell_type": "code",
   "execution_count": 353,
   "metadata": {},
   "outputs": [],
   "source": [
    "import itertools\n",
    "\n",
    "weight_lst= []\n",
    "lst = list(range(1, 10))\n",
    "combinations = itertools.combinations_with_replacement(lst, 5)\n",
    "for tple in combinations:\n",
    "    if np.sum(tple) == 10:\n",
    "        lst = list(tple)\n",
    "        new_lst = [(element/10) for element in lst]\n",
    "        perm_lst = itertools.permutations(new_lst)\n",
    "        unq_perm_lst = set(perm_lst)\n",
    "        for lst in unq_perm_lst:\n",
    "            weight_lst.append(list(lst))"
   ]
  },
  {
   "cell_type": "code",
   "execution_count": 354,
   "metadata": {},
   "outputs": [
    {
     "data": {
      "text/plain": [
       "126"
      ]
     },
     "execution_count": 354,
     "metadata": {},
     "output_type": "execute_result"
    }
   ],
   "source": [
    "len(weight_lst)"
   ]
  },
  {
   "cell_type": "markdown",
   "metadata": {},
   "source": [
    "#### Calculating Returns and Volatility for each weight combinations"
   ]
  },
  {
   "cell_type": "code",
   "execution_count": 355,
   "metadata": {},
   "outputs": [],
   "source": [
    "dict_portfolio = {'returns': [],\n",
    "                 'volatility': [],\n",
    "                 'sharpe ratio': []}"
   ]
  },
  {
   "cell_type": "code",
   "execution_count": 356,
   "metadata": {},
   "outputs": [],
   "source": [
    "for weight in weight_lst:\n",
    "    rtns_volty = returns_volatility_portfolio(weight)\n",
    "    dict_portfolio['returns'].append(rtns_volty[0])\n",
    "    dict_portfolio['volatility'].append(rtns_volty[1])\n",
    "    dict_portfolio['sharpe ratio'].append(rtns_volty[0]/rtns_volty[1])"
   ]
  },
  {
   "cell_type": "code",
   "execution_count": 357,
   "metadata": {},
   "outputs": [
    {
     "data": {
      "image/png": "[encoded data removed]",
      "text/plain": [
       "<Figure size 576x360 with 1 Axes>"
      ]
     },
     "metadata": {
      "needs_background": "light"
     },
     "output_type": "display_data"
    }
   ],
   "source": [
    "plt.figure(figsize=(8,5))\n",
    "sns.scatterplot(x=dict_portfolio['volatility'], y=dict_portfolio['returns'], hue=dict_portfolio['sharpe ratio'])\n",
    "plt.grid()\n",
    "plt.xlabel('Volatility')\n",
    "plt.ylabel('Returns')\n",
    "plt.title('Volatility vs Returns')\n",
    "plt.show()"
   ]
  },
  {
   "cell_type": "code",
   "execution_count": null,
   "metadata": {},
   "outputs": [],
   "source": []
  }
 ],
 "metadata": {
  "kernelspec": {
   "display_name": "Python 3",
   "language": "python",
   "name": "python3"
  },
  "language_info": {
   "codemirror_mode": {
    "name": "ipython",
    "version": 3
   },
   "file_extension": ".py",
   "mimetype": "text/x-python",
   "name": "python",
   "nbconvert_exporter": "python",
   "pygments_lexer": "ipython3",
   "version": "3.7.6"
  }
 },
 "nbformat": 4,
 "nbformat_minor": 4
}
